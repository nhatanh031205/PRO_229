{
 "cells": [
  {
   "cell_type": "code",
   "execution_count": 2,
   "id": "04b18627",
   "metadata": {},
   "outputs": [],
   "source": [
    "import pandas as pd"
   ]
  },
  {
   "cell_type": "code",
   "execution_count": 3,
   "id": "7d6eb3b3",
   "metadata": {},
   "outputs": [],
   "source": [
    "df = pd.read_csv('US_Accidents_March23.csv')"
   ]
  },
  {
   "cell_type": "code",
   "execution_count": 12,
   "id": "ee16340c",
   "metadata": {},
   "outputs": [
    {
     "name": "stdout",
     "output_type": "stream",
     "text": [
      "    ID  Severity           Start_Time             End_Time  Start_Lat  \\\n",
      "0  A-1         3  2016-02-08 05:46:00  2016-02-08 11:00:00  39.865147   \n",
      "1  A-2         2  2016-02-08 06:07:59  2016-02-08 06:37:59  39.928059   \n",
      "2  A-3         2  2016-02-08 06:49:27  2016-02-08 07:19:27  39.063148   \n",
      "3  A-4         3  2016-02-08 07:23:34  2016-02-08 07:53:34  39.747753   \n",
      "4  A-5         2  2016-02-08 07:39:07  2016-02-08 08:09:07  39.627781   \n",
      "\n",
      "   Start_Lng  Distance(mi)                     Street          City  \\\n",
      "0 -84.058723          0.01                     I-70 E        Dayton   \n",
      "1 -82.831184          0.01                   Brice Rd  Reynoldsburg   \n",
      "2 -84.032608          0.01             State Route 32  Williamsburg   \n",
      "3 -84.205582          0.01                     I-75 S        Dayton   \n",
      "4 -84.188354          0.01  Miamisburg Centerville Rd        Dayton   \n",
      "\n",
      "       County  ... Roundabout Station   Stop  Traffic_Calming  Traffic_Signal  \\\n",
      "0  Montgomery  ...      False   False  False            False           False   \n",
      "1    Franklin  ...      False   False  False            False           False   \n",
      "2    Clermont  ...      False   False  False            False            True   \n",
      "3  Montgomery  ...      False   False  False            False           False   \n",
      "4  Montgomery  ...      False   False  False            False            True   \n",
      "\n",
      "   Turning_Loop  Sunrise_Sunset Civil_Twilight  Nautical_Twilight  \\\n",
      "0         False           Night          Night              Night   \n",
      "1         False           Night          Night              Night   \n",
      "2         False           Night          Night                Day   \n",
      "3         False           Night            Day                Day   \n",
      "4         False             Day            Day                Day   \n",
      "\n",
      "   Astronomical_Twilight  \n",
      "0                  Night  \n",
      "1                    Day  \n",
      "2                    Day  \n",
      "3                    Day  \n",
      "4                    Day  \n",
      "\n",
      "[5 rows x 30 columns]\n"
     ]
    }
   ],
   "source": [
    "# in 500 dòng đầu\n",
    "print(df.head())"
   ]
  },
  {
   "cell_type": "code",
   "execution_count": 6,
   "id": "06c19ff5",
   "metadata": {},
   "outputs": [],
   "source": [
    "# xác định các cột không cần thiết để loại bỏ\n",
    "columns_to_drop = [\n",
    "    'Source', 'End_Lat', 'End_Lng', 'Description', 'Country', \n",
    "    'Timezone', 'Airport_Code', 'Weather_Timestamp', 'Wind_Chill(F)', \n",
    "    'Pressure(in)', 'Wind_Direction', 'Amenity', 'Bump', \n",
    "    'Give_Way', 'No_Exit', 'Railway'\n",
    "]"
   ]
  },
  {
   "cell_type": "code",
   "execution_count": 7,
   "id": "147c18ff",
   "metadata": {},
   "outputs": [],
   "source": [
    "# xóa các cột không cần thiết\n",
    "df.drop(columns=columns_to_drop, axis=1, inplace=True)"
   ]
  },
  {
   "cell_type": "code",
   "execution_count": 9,
   "id": "b71ae3f9",
   "metadata": {},
   "outputs": [
    {
     "name": "stdout",
     "output_type": "stream",
     "text": [
      "['ID', 'Severity', 'Start_Time', 'End_Time', 'Start_Lat', 'Start_Lng', 'Distance(mi)', 'Street', 'City', 'County', 'State', 'Zipcode', 'Temperature(F)', 'Humidity(%)', 'Visibility(mi)', 'Wind_Speed(mph)', 'Precipitation(in)', 'Weather_Condition', 'Crossing', 'Junction', 'Roundabout', 'Station', 'Stop', 'Traffic_Calming', 'Traffic_Signal', 'Turning_Loop', 'Sunrise_Sunset', 'Civil_Twilight', 'Nautical_Twilight', 'Astronomical_Twilight']\n"
     ]
    }
   ],
   "source": [
    "# hiển thị các cột còn lại\n",
    "print(df.columns.tolist())"
   ]
  },
  {
   "cell_type": "code",
   "execution_count": 8,
   "id": "c85d959e",
   "metadata": {},
   "outputs": [
    {
     "name": "stdout",
     "output_type": "stream",
     "text": [
      "<class 'pandas.core.frame.DataFrame'>\n",
      "RangeIndex: 7728394 entries, 0 to 7728393\n",
      "Data columns (total 30 columns):\n",
      " #   Column                 Dtype  \n",
      "---  ------                 -----  \n",
      " 0   ID                     object \n",
      " 1   Severity               int64  \n",
      " 2   Start_Time             object \n",
      " 3   End_Time               object \n",
      " 4   Start_Lat              float64\n",
      " 5   Start_Lng              float64\n",
      " 6   Distance(mi)           float64\n",
      " 7   Street                 object \n",
      " 8   City                   object \n",
      " 9   County                 object \n",
      " 10  State                  object \n",
      " 11  Zipcode                object \n",
      " 12  Temperature(F)         float64\n",
      " 13  Humidity(%)            float64\n",
      " 14  Visibility(mi)         float64\n",
      " 15  Wind_Speed(mph)        float64\n",
      " 16  Precipitation(in)      float64\n",
      " 17  Weather_Condition      object \n",
      " 18  Crossing               bool   \n",
      " 19  Junction               bool   \n",
      " 20  Roundabout             bool   \n",
      " 21  Station                bool   \n",
      " 22  Stop                   bool   \n",
      " 23  Traffic_Calming        bool   \n",
      " 24  Traffic_Signal         bool   \n",
      " 25  Turning_Loop           bool   \n",
      " 26  Sunrise_Sunset         object \n",
      " 27  Civil_Twilight         object \n",
      " 28  Nautical_Twilight      object \n",
      " 29  Astronomical_Twilight  object \n",
      "dtypes: bool(8), float64(8), int64(1), object(13)\n",
      "memory usage: 5.9 GB\n",
      "None\n"
     ]
    }
   ],
   "source": [
    "# Thông tin tổng quát\n",
    "print(df.info(memory_usage='deep'))"
   ]
  },
  {
   "cell_type": "code",
   "execution_count": 10,
   "id": "4960b01c",
   "metadata": {},
   "outputs": [
    {
     "name": "stdout",
     "output_type": "stream",
     "text": [
      "ID                             0\n",
      "Severity                       0\n",
      "Start_Time                     0\n",
      "End_Time                       0\n",
      "Start_Lat                      0\n",
      "Start_Lng                      0\n",
      "Distance(mi)                   0\n",
      "Street                     10869\n",
      "City                         253\n",
      "County                         0\n",
      "State                          0\n",
      "Zipcode                     1915\n",
      "Temperature(F)            163853\n",
      "Humidity(%)               174144\n",
      "Visibility(mi)            177098\n",
      "Wind_Speed(mph)           571233\n",
      "Precipitation(in)        2203586\n",
      "Weather_Condition         173459\n",
      "Crossing                       0\n",
      "Junction                       0\n",
      "Roundabout                     0\n",
      "Station                        0\n",
      "Stop                           0\n",
      "Traffic_Calming                0\n",
      "Traffic_Signal                 0\n",
      "Turning_Loop                   0\n",
      "Sunrise_Sunset             23246\n",
      "Civil_Twilight             23246\n",
      "Nautical_Twilight          23246\n",
      "Astronomical_Twilight      23246\n",
      "dtype: int64\n"
     ]
    }
   ],
   "source": [
    "# Đếm số giá trị null trong từng cột\n",
    "print(df.isnull().sum())"
   ]
  },
  {
   "cell_type": "code",
   "execution_count": 16,
   "id": "d7996284",
   "metadata": {},
   "outputs": [
    {
     "name": "stdout",
     "output_type": "stream",
     "text": [
      "Precipitation(in)        28.575720\n",
      "Wind_Speed(mph)           7.357984\n",
      "Visibility(mi)            2.235439\n",
      "Humidity(%)               2.197259\n",
      "Weather_Condition         2.188888\n",
      "Temperature(F)            2.064235\n",
      "Start_Lng                 0.000000\n",
      "Start_Lat                 0.000000\n",
      "Distance(mi)              0.000000\n",
      "Street                    0.000000\n",
      "Start_Time                0.000000\n",
      "End_Time                  0.000000\n",
      "ID                        0.000000\n",
      "Severity                  0.000000\n",
      "State                     0.000000\n",
      "Zipcode                   0.000000\n",
      "City                      0.000000\n",
      "County                    0.000000\n",
      "Crossing                  0.000000\n",
      "Junction                  0.000000\n",
      "Roundabout                0.000000\n",
      "Station                   0.000000\n",
      "Stop                      0.000000\n",
      "Traffic_Calming           0.000000\n",
      "Traffic_Signal            0.000000\n",
      "Turning_Loop              0.000000\n",
      "Sunrise_Sunset            0.000000\n",
      "Civil_Twilight            0.000000\n",
      "Nautical_Twilight         0.000000\n",
      "Astronomical_Twilight     0.000000\n",
      "dtype: float64\n"
     ]
    }
   ],
   "source": [
    "# Tính tỉ lệ % thiếu\n",
    "missing_percent = df.isnull().mean() * 100\n",
    "print(missing_percent.sort_values(ascending=False))"
   ]
  },
  {
   "cell_type": "code",
   "execution_count": null,
   "id": "8c2ccbc6",
   "metadata": {},
   "outputs": [],
   "source": [
    "# xoá các hàng thiếu ít hơn 1% giá trị\n",
    "df = df.dropna(subset=[\"City\", \"Street\", \"Sunrise_Sunset\", \"Astronomical_Twilight\", \"Civil_Twilight\", \"Nautical_Twilight\", \"Zipcode\"])\n"
   ]
  },
  {
   "cell_type": "code",
   "execution_count": 17,
   "id": "a5766567",
   "metadata": {},
   "outputs": [
    {
     "name": "stderr",
     "output_type": "stream",
     "text": [
      "C:\\Users\\Nhat Anh Vippro\\AppData\\Local\\Temp\\ipykernel_18840\\3846619164.py:2: SettingWithCopyWarning: \n",
      "A value is trying to be set on a copy of a slice from a DataFrame.\n",
      "Try using .loc[row_indexer,col_indexer] = value instead\n",
      "\n",
      "See the caveats in the documentation: https://pandas.pydata.org/pandas-docs/stable/user_guide/indexing.html#returning-a-view-versus-a-copy\n",
      "  df[\"Temperature(F)\"] = df[\"Temperature(F)\"].fillna(df[\"Temperature(F)\"].median())\n",
      "C:\\Users\\Nhat Anh Vippro\\AppData\\Local\\Temp\\ipykernel_18840\\3846619164.py:3: SettingWithCopyWarning: \n",
      "A value is trying to be set on a copy of a slice from a DataFrame.\n",
      "Try using .loc[row_indexer,col_indexer] = value instead\n",
      "\n",
      "See the caveats in the documentation: https://pandas.pydata.org/pandas-docs/stable/user_guide/indexing.html#returning-a-view-versus-a-copy\n",
      "  df[\"Humidity(%)\"] = df[\"Humidity(%)\"].fillna(df[\"Humidity(%)\"].median())\n",
      "C:\\Users\\Nhat Anh Vippro\\AppData\\Local\\Temp\\ipykernel_18840\\3846619164.py:4: SettingWithCopyWarning: \n",
      "A value is trying to be set on a copy of a slice from a DataFrame.\n",
      "Try using .loc[row_indexer,col_indexer] = value instead\n",
      "\n",
      "See the caveats in the documentation: https://pandas.pydata.org/pandas-docs/stable/user_guide/indexing.html#returning-a-view-versus-a-copy\n",
      "  df[\"Visibility(mi)\"] = df[\"Visibility(mi)\"].fillna(df[\"Visibility(mi)\"].median())\n",
      "C:\\Users\\Nhat Anh Vippro\\AppData\\Local\\Temp\\ipykernel_18840\\3846619164.py:5: SettingWithCopyWarning: \n",
      "A value is trying to be set on a copy of a slice from a DataFrame.\n",
      "Try using .loc[row_indexer,col_indexer] = value instead\n",
      "\n",
      "See the caveats in the documentation: https://pandas.pydata.org/pandas-docs/stable/user_guide/indexing.html#returning-a-view-versus-a-copy\n",
      "  df[\"Wind_Speed(mph)\"] = df[\"Wind_Speed(mph)\"].fillna(df[\"Wind_Speed(mph)\"].median())\n",
      "C:\\Users\\Nhat Anh Vippro\\AppData\\Local\\Temp\\ipykernel_18840\\3846619164.py:8: SettingWithCopyWarning: \n",
      "A value is trying to be set on a copy of a slice from a DataFrame.\n",
      "Try using .loc[row_indexer,col_indexer] = value instead\n",
      "\n",
      "See the caveats in the documentation: https://pandas.pydata.org/pandas-docs/stable/user_guide/indexing.html#returning-a-view-versus-a-copy\n",
      "  df[\"Weather_Condition\"] = df[\"Weather_Condition\"].fillna(\"Unknown\")\n"
     ]
    }
   ],
   "source": [
    "# thay thế các giá trị thiếu 2& - 7% trong các cột số với giá trị trung vị\n",
    "df[\"Temperature(F)\"] = df[\"Temperature(F)\"].fillna(df[\"Temperature(F)\"].median())\n",
    "df[\"Humidity(%)\"] = df[\"Humidity(%)\"].fillna(df[\"Humidity(%)\"].median())\n",
    "df[\"Visibility(mi)\"] = df[\"Visibility(mi)\"].fillna(df[\"Visibility(mi)\"].median())\n",
    "df[\"Wind_Speed(mph)\"] = df[\"Wind_Speed(mph)\"].fillna(df[\"Wind_Speed(mph)\"].median())\n",
    "\n",
    "# thay thế các giá trị thiếu với giá trị \"Unknown\"\n",
    "df[\"Weather_Condition\"] = df[\"Weather_Condition\"].fillna(\"Unknown\")\n",
    "\n"
   ]
  },
  {
   "cell_type": "code",
   "execution_count": null,
   "id": "30bf55a9",
   "metadata": {},
   "outputs": [],
   "source": []
  }
 ],
 "metadata": {
  "kernelspec": {
   "display_name": "Python 3",
   "language": "python",
   "name": "python3"
  },
  "language_info": {
   "codemirror_mode": {
    "name": "ipython",
    "version": 3
   },
   "file_extension": ".py",
   "mimetype": "text/x-python",
   "name": "python",
   "nbconvert_exporter": "python",
   "pygments_lexer": "ipython3",
   "version": "3.13.5"
  }
 },
 "nbformat": 4,
 "nbformat_minor": 5
}
