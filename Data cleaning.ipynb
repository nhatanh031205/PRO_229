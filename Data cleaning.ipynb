{
 "cells": [
  {
   "cell_type": "code",
   "execution_count": 1,
   "id": "04b18627",
   "metadata": {},
   "outputs": [],
   "source": [
    "import pandas as pd"
   ]
  },
  {
   "cell_type": "code",
   "execution_count": null,
   "id": "7d6eb3b3",
   "metadata": {},
   "outputs": [],
   "source": [
    "df = pd.read_csv('US_Accidents_March23.csv')"
   ]
  },
  {
   "cell_type": "code",
   "execution_count": null,
   "id": "ee16340c",
   "metadata": {},
   "outputs": [
    {
     "name": "stdout",
     "output_type": "stream",
     "text": [
      "        ID   Source  Severity           Start_Time             End_Time  \\\n",
      "0      A-1  Source2         3  2016-02-08 05:46:00  2016-02-08 11:00:00   \n",
      "1      A-2  Source2         2  2016-02-08 06:07:59  2016-02-08 06:37:59   \n",
      "2      A-3  Source2         2  2016-02-08 06:49:27  2016-02-08 07:19:27   \n",
      "3      A-4  Source2         3  2016-02-08 07:23:34  2016-02-08 07:53:34   \n",
      "4      A-5  Source2         2  2016-02-08 07:39:07  2016-02-08 08:09:07   \n",
      "..     ...      ...       ...                  ...                  ...   \n",
      "495  A-496  Source2         2  2016-03-04 08:33:12  2016-03-04 09:03:12   \n",
      "496  A-497  Source2         2  2016-03-04 10:17:30  2016-03-04 10:47:30   \n",
      "497  A-498  Source2         2  2016-03-04 11:15:47  2016-03-04 11:45:47   \n",
      "498  A-499  Source2         2  2016-03-04 11:50:40  2016-03-04 12:20:40   \n",
      "499  A-500  Source2         2  2016-03-04 14:55:55  2016-03-04 15:40:55   \n",
      "\n",
      "     Start_Lat  Start_Lng  End_Lat  End_Lng  Distance(mi)  ... Roundabout  \\\n",
      "0    39.865147 -84.058723      NaN      NaN          0.01  ...      False   \n",
      "1    39.928059 -82.831184      NaN      NaN          0.01  ...      False   \n",
      "2    39.063148 -84.032608      NaN      NaN          0.01  ...      False   \n",
      "3    39.747753 -84.205582      NaN      NaN          0.01  ...      False   \n",
      "4    39.627781 -84.188354      NaN      NaN          0.01  ...      False   \n",
      "..         ...        ...      ...      ...           ...  ...        ...   \n",
      "495  40.089439 -83.036194      NaN      NaN          0.01  ...      False   \n",
      "496  39.735844 -84.121658      NaN      NaN          0.01  ...      False   \n",
      "497  39.764576 -84.187706      NaN      NaN          0.01  ...      False   \n",
      "498  39.747974 -84.215065      NaN      NaN          0.01  ...      False   \n",
      "499  39.747753 -84.205582      NaN      NaN          0.01  ...      False   \n",
      "\n",
      "    Station   Stop Traffic_Calming Traffic_Signal Turning_Loop Sunrise_Sunset  \\\n",
      "0     False  False           False          False        False          Night   \n",
      "1     False  False           False          False        False          Night   \n",
      "2     False  False           False           True        False          Night   \n",
      "3     False  False           False          False        False          Night   \n",
      "4     False  False           False           True        False            Day   \n",
      "..      ...    ...             ...            ...          ...            ...   \n",
      "495   False  False           False          False        False            Day   \n",
      "496   False  False           False           True        False            Day   \n",
      "497   False  False           False           True        False            Day   \n",
      "498   False  False           False          False        False            Day   \n",
      "499   False  False           False          False        False            Day   \n",
      "\n",
      "    Civil_Twilight Nautical_Twilight Astronomical_Twilight  \n",
      "0            Night             Night                 Night  \n",
      "1            Night             Night                   Day  \n",
      "2            Night               Day                   Day  \n",
      "3              Day               Day                   Day  \n",
      "4              Day               Day                   Day  \n",
      "..             ...               ...                   ...  \n",
      "495            Day               Day                   Day  \n",
      "496            Day               Day                   Day  \n",
      "497            Day               Day                   Day  \n",
      "498            Day               Day                   Day  \n",
      "499            Day               Day                   Day  \n",
      "\n",
      "[500 rows x 46 columns]\n"
     ]
    }
   ],
   "source": [
    "# in 500 dòng đầu\n",
    "print(df.head(500))"
   ]
  },
  {
   "cell_type": "code",
   "execution_count": null,
   "id": "06c19ff5",
   "metadata": {},
   "outputs": [],
   "source": [
    "# xác định các cột không cần thiết để loại bỏ\n",
    "columns_to_drop = [\n",
    "    'Source', 'End_Lat', 'End_Lng', 'Description', 'Country', \n",
    "    'Timezone', 'Airport_Code', 'Weather_Timestamp', 'Wind_Chill(F)', \n",
    "    'Pressure(in)', 'Wind_Direction', 'Amenity', 'Bump', \n",
    "    'Give_Way', 'No_Exit', 'Railway'\n",
    "]"
   ]
  },
  {
   "cell_type": "code",
   "execution_count": null,
   "id": "147c18ff",
   "metadata": {},
   "outputs": [],
   "source": [
    "# xóa các cột không cần thiết\n",
    "df.drop(columns=columns_to_drop, axis=1, inplace=True)"
   ]
  },
  {
   "cell_type": "code",
   "execution_count": null,
   "id": "b71ae3f9",
   "metadata": {},
   "outputs": [
    {
     "name": "stdout",
     "output_type": "stream",
     "text": [
      "['ID', 'Severity', 'Start_Time', 'End_Time', 'Start_Lat', 'Start_Lng', 'Distance(mi)', 'Street', 'City', 'County', 'State', 'Zipcode', 'Temperature(F)', 'Humidity(%)', 'Visibility(mi)', 'Wind_Speed(mph)', 'Precipitation(in)', 'Weather_Condition', 'Crossing', 'Junction', 'Roundabout', 'Station', 'Stop', 'Traffic_Calming', 'Traffic_Signal', 'Turning_Loop', 'Sunrise_Sunset', 'Civil_Twilight', 'Nautical_Twilight', 'Astronomical_Twilight']\n"
     ]
    }
   ],
   "source": [
    "# hiển thị các cột còn lại\n",
    "print(df.columns.tolist())"
   ]
  }
 ],
 "metadata": {
  "kernelspec": {
   "display_name": "Python 3",
   "language": "python",
   "name": "python3"
  },
  "language_info": {
   "codemirror_mode": {
    "name": "ipython",
    "version": 3
   },
   "file_extension": ".py",
   "mimetype": "text/x-python",
   "name": "python",
   "nbconvert_exporter": "python",
   "pygments_lexer": "ipython3",
   "version": "3.13.5"
  }
 },
 "nbformat": 4,
 "nbformat_minor": 5
}
